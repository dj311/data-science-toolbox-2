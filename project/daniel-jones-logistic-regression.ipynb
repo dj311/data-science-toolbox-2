{
 "cells": [
  {
   "cell_type": "markdown",
   "metadata": {},
   "source": [
    "# Using Logistic Regression for Intrusion Detection on the KDD-99 Dataset\n",
    "*By Daniel Jones*\n",
    "\n",
    "--- \n",
    "\n",
    "In this section of the report, a logistic regression model is implemented in Python using the sci-kit learn library. Within this, the effectiveness of feature selection is determined, and penalisation introduced as a method of increasing the models performance. "
   ]
  },
  {
   "cell_type": "markdown",
   "metadata": {},
   "source": [
    "## Preliminaries"
   ]
  },
  {
   "cell_type": "markdown",
   "metadata": {},
   "source": [
    "The notebook needs to be setup with the required libraries and dependencies loaded. The Python dependencies are located in [requirements.txt](../requirements.txt) in the root project directory. There are setup instructions in the [README](../README.md).\n",
    "\n",
    "To run this notebook, either select \"Kernel -> Restart & Run All\" from the menu, or run each cell from top to bottom."
   ]
  },
  {
   "cell_type": "code",
   "execution_count": 49,
   "metadata": {
    "collapsed": true
   },
   "outputs": [],
   "source": [
    "import matplotlib \n",
    "import numpy\n",
    "import pandas\n",
    "import seaborn\n",
    "\n",
    "from sklearn import decomposition\n",
    "from sklearn import linear_model\n",
    "from sklearn import metrics\n",
    "from sklearn import model_selection\n",
    "from sklearn import preprocessing\n",
    "from statsmodels import api as sm\n",
    "\n",
    "import warnings\n",
    "warnings.filterwarnings('ignore')\n",
    "\n",
    "random_state = numpy.random.RandomState(0)\n",
    "\n",
    "%matplotlib inline"
   ]
  },
  {
   "cell_type": "markdown",
   "metadata": {},
   "source": [
    "Load 10% of the KDD-99 dataset, containing a list of Transmission Control Protocol (TCP) connections. The code below uses the column names from `kddcup.names`. Though note that the final column, containing class labels, has been named `connection_labels`."
   ]
  },
  {
   "cell_type": "code",
   "execution_count": 188,
   "metadata": {
    "collapsed": true
   },
   "outputs": [],
   "source": [
    "columns = ['duration', 'protocol_type', 'service', 'flag', 'src_bytes', 'dst_bytes', 'land', 'wrong_fragment', 'urgent', 'hot', 'num_failed_logins', 'logged_in', 'num_compromised', 'root_shell', 'su_attempted', 'num_root', 'num_file_creations', 'num_shells', 'num_access_files', 'num_outbound_cmds', 'is_host_login', 'is_guest_login', 'count', 'srv_count', 'serror_rate', 'srv_serror_rate', 'rerror_rate', 'srv_rerror_rate', 'same_srv_rate', 'diff_srv_rate', 'srv_diff_host_rate', 'dst_host_count', 'dst_host_srv_count', 'dst_host_same_srv_rate', 'dst_host_diff_srv_rate', 'dst_host_same_src_port_rate', 'dst_host_srv_diff_host_rate', 'dst_host_serror_rate', 'dst_host_srv_serror_rate', 'dst_host_rerror_rate', 'dst_host_srv_rerror_rate', 'connection_label']\n",
    "connection_events = pandas.read_csv('../data/kddcup.data_10_percent.gz', names=columns)  # sourced from http://kdd.ics.uci.edu/ [3]"
   ]
  },
  {
   "cell_type": "markdown",
   "metadata": {},
   "source": [
    "The `connection_label` feature describes the source of each connection: this is either an identifier of its attack-type, or `normal.`.\n",
    "\n",
    "Since the task is to separate malicious behavour from normal network behaviour, the code below separates these labels from the rest of the dataset, then groups all malicious traffic under the label `bad.`:"
   ]
  },
  {
   "cell_type": "code",
   "execution_count": 189,
   "metadata": {
    "collapsed": true
   },
   "outputs": [],
   "source": [
    "connection_labels = connection_events.filter(['connection_label'], axis='columns')\n",
    "connection_events = connection_events.drop(['connection_label'], axis='columns')"
   ]
  },
  {
   "cell_type": "code",
   "execution_count": 190,
   "metadata": {
    "collapsed": true
   },
   "outputs": [],
   "source": [
    "def generate_label(label):\n",
    "    return 'normal.' if label == 'normal.' else 'bad.'\n",
    "\n",
    "connection_labels['connection_label'] = connection_labels['connection_label'].apply(generate_label)"
   ]
  },
  {
   "cell_type": "markdown",
   "metadata": {},
   "source": [
    "## Data Preparation\n",
    "\n",
    "The code below performs 10-fold cross-validation, providing the array `train_test_splits`. It does this using the [model selection](http://scikit-learn.org/stable/modules/cross_validation.html#stratified-k-fold) part of the scikit-learn library [5]. The `StratifiedKFold` module ensures that class ratios are preserved within each split."
   ]
  },
  {
   "cell_type": "code",
   "execution_count": 191,
   "metadata": {
    "collapsed": false
   },
   "outputs": [],
   "source": [
    "k_fold_splitter = model_selection.StratifiedKFold(n_splits=10,  random_state=random_state)\n",
    "train_test_splits = k_fold_splitter.split(\n",
    "    connection_events,  # data to be split\n",
    "    connection_labels,  # target/class to split by\n",
    ")\n",
    "train_test_splits = list(train_test_splits)  # force evaluation of generator so we can interate over this muiltiple times"
   ]
  },
  {
   "cell_type": "markdown",
   "metadata": {},
   "source": [
    "## Data Model\n",
    "\n",
    "Here we consider potential enhancements to the standard logistic regression technique. In particular, we investigate the use of Principle Component Analysis (PCA) to rank and select features of the model. Further, we consider the applicability of adding a penalization term to the maximum likelihood estimation.\n",
    "\n",
    "Before we apply the above mentioned techniques, the data must be cleaned and converted to a format compatible with a linear model."
   ]
  },
  {
   "cell_type": "code",
   "execution_count": 197,
   "metadata": {
    "collapsed": false
   },
   "outputs": [
    {
     "data": {
      "text/html": [
       "<div>\n",
       "<style scoped>\n",
       "    .dataframe tbody tr th:only-of-type {\n",
       "        vertical-align: middle;\n",
       "    }\n",
       "\n",
       "    .dataframe tbody tr th {\n",
       "        vertical-align: top;\n",
       "    }\n",
       "\n",
       "    .dataframe thead th {\n",
       "        text-align: right;\n",
       "    }\n",
       "</style>\n",
       "<table border=\"1\" class=\"dataframe\">\n",
       "  <thead>\n",
       "    <tr style=\"text-align: right;\">\n",
       "      <th></th>\n",
       "      <th>protocol_type</th>\n",
       "      <th>service</th>\n",
       "      <th>flag</th>\n",
       "    </tr>\n",
       "  </thead>\n",
       "  <tbody>\n",
       "    <tr>\n",
       "      <th>count</th>\n",
       "      <td>494021</td>\n",
       "      <td>494021</td>\n",
       "      <td>494021</td>\n",
       "    </tr>\n",
       "    <tr>\n",
       "      <th>unique</th>\n",
       "      <td>3</td>\n",
       "      <td>66</td>\n",
       "      <td>11</td>\n",
       "    </tr>\n",
       "    <tr>\n",
       "      <th>top</th>\n",
       "      <td>icmp</td>\n",
       "      <td>ecr_i</td>\n",
       "      <td>SF</td>\n",
       "    </tr>\n",
       "    <tr>\n",
       "      <th>freq</th>\n",
       "      <td>283602</td>\n",
       "      <td>281400</td>\n",
       "      <td>378440</td>\n",
       "    </tr>\n",
       "  </tbody>\n",
       "</table>\n",
       "</div>"
      ],
      "text/plain": [
       "       protocol_type service    flag\n",
       "count         494021  494021  494021\n",
       "unique             3      66      11\n",
       "top             icmp   ecr_i      SF\n",
       "freq          283602  281400  378440"
      ]
     },
     "execution_count": 197,
     "metadata": {},
     "output_type": "execute_result"
    }
   ],
   "source": [
    "# Find the categorical columns\n",
    "connection_events.select_dtypes(include=[object]).describe()"
   ]
  },
  {
   "cell_type": "markdown",
   "metadata": {},
   "source": [
    "There are a couple of options when converting categorical features into numeric features. One potential option is to sequentially number each value. This has the downside of adding an implicit ordering between each value, i.e. that $0 > 1 > 2 > 3 > …$. None of `protocol_type`, `service`, or `flag` have a meaningful ordering between their values, so we should avoid this approach if possible.\n",
    "\n",
    "A second approach is to use one-hot-encoding, which transforms each categorical feature with $n$ values into $n$ binary features. This does have the disadvantage of removing a constraint on the data: it is now possible for each datapoint to have multiple values for e.g.  the `service` column. Since we aren't doing too much data manipulation, this should not be an issue for us. The code below uses `pandas.get_dummies` to apply a one-hot-encoding onto the categorical columns found above:"
   ]
  },
  {
   "cell_type": "code",
   "execution_count": 198,
   "metadata": {
    "collapsed": false
   },
   "outputs": [
    {
     "data": {
      "text/html": [
       "<div>\n",
       "<style scoped>\n",
       "    .dataframe tbody tr th:only-of-type {\n",
       "        vertical-align: middle;\n",
       "    }\n",
       "\n",
       "    .dataframe tbody tr th {\n",
       "        vertical-align: top;\n",
       "    }\n",
       "\n",
       "    .dataframe thead th {\n",
       "        text-align: right;\n",
       "    }\n",
       "</style>\n",
       "<table border=\"1\" class=\"dataframe\">\n",
       "  <thead>\n",
       "    <tr style=\"text-align: right;\">\n",
       "      <th></th>\n",
       "      <th>protocol_type_icmp</th>\n",
       "      <th>protocol_type_tcp</th>\n",
       "      <th>protocol_type_udp</th>\n",
       "      <th>service_IRC</th>\n",
       "      <th>service_X11</th>\n",
       "      <th>service_Z39_50</th>\n",
       "      <th>service_auth</th>\n",
       "      <th>service_bgp</th>\n",
       "      <th>service_courier</th>\n",
       "      <th>service_csnet_ns</th>\n",
       "      <th>...</th>\n",
       "      <th>flag_REJ</th>\n",
       "      <th>flag_RSTO</th>\n",
       "      <th>flag_RSTOS0</th>\n",
       "      <th>flag_RSTR</th>\n",
       "      <th>flag_S0</th>\n",
       "      <th>flag_S1</th>\n",
       "      <th>flag_S2</th>\n",
       "      <th>flag_S3</th>\n",
       "      <th>flag_SF</th>\n",
       "      <th>flag_SH</th>\n",
       "    </tr>\n",
       "  </thead>\n",
       "  <tbody>\n",
       "    <tr>\n",
       "      <th>0</th>\n",
       "      <td>0</td>\n",
       "      <td>1</td>\n",
       "      <td>0</td>\n",
       "      <td>0</td>\n",
       "      <td>0</td>\n",
       "      <td>0</td>\n",
       "      <td>0</td>\n",
       "      <td>0</td>\n",
       "      <td>0</td>\n",
       "      <td>0</td>\n",
       "      <td>...</td>\n",
       "      <td>0</td>\n",
       "      <td>0</td>\n",
       "      <td>0</td>\n",
       "      <td>0</td>\n",
       "      <td>0</td>\n",
       "      <td>0</td>\n",
       "      <td>0</td>\n",
       "      <td>0</td>\n",
       "      <td>1</td>\n",
       "      <td>0</td>\n",
       "    </tr>\n",
       "    <tr>\n",
       "      <th>1</th>\n",
       "      <td>0</td>\n",
       "      <td>1</td>\n",
       "      <td>0</td>\n",
       "      <td>0</td>\n",
       "      <td>0</td>\n",
       "      <td>0</td>\n",
       "      <td>0</td>\n",
       "      <td>0</td>\n",
       "      <td>0</td>\n",
       "      <td>0</td>\n",
       "      <td>...</td>\n",
       "      <td>0</td>\n",
       "      <td>0</td>\n",
       "      <td>0</td>\n",
       "      <td>0</td>\n",
       "      <td>0</td>\n",
       "      <td>0</td>\n",
       "      <td>0</td>\n",
       "      <td>0</td>\n",
       "      <td>1</td>\n",
       "      <td>0</td>\n",
       "    </tr>\n",
       "    <tr>\n",
       "      <th>2</th>\n",
       "      <td>0</td>\n",
       "      <td>1</td>\n",
       "      <td>0</td>\n",
       "      <td>0</td>\n",
       "      <td>0</td>\n",
       "      <td>0</td>\n",
       "      <td>0</td>\n",
       "      <td>0</td>\n",
       "      <td>0</td>\n",
       "      <td>0</td>\n",
       "      <td>...</td>\n",
       "      <td>0</td>\n",
       "      <td>0</td>\n",
       "      <td>0</td>\n",
       "      <td>0</td>\n",
       "      <td>0</td>\n",
       "      <td>0</td>\n",
       "      <td>0</td>\n",
       "      <td>0</td>\n",
       "      <td>1</td>\n",
       "      <td>0</td>\n",
       "    </tr>\n",
       "    <tr>\n",
       "      <th>3</th>\n",
       "      <td>0</td>\n",
       "      <td>1</td>\n",
       "      <td>0</td>\n",
       "      <td>0</td>\n",
       "      <td>0</td>\n",
       "      <td>0</td>\n",
       "      <td>0</td>\n",
       "      <td>0</td>\n",
       "      <td>0</td>\n",
       "      <td>0</td>\n",
       "      <td>...</td>\n",
       "      <td>0</td>\n",
       "      <td>0</td>\n",
       "      <td>0</td>\n",
       "      <td>0</td>\n",
       "      <td>0</td>\n",
       "      <td>0</td>\n",
       "      <td>0</td>\n",
       "      <td>0</td>\n",
       "      <td>1</td>\n",
       "      <td>0</td>\n",
       "    </tr>\n",
       "    <tr>\n",
       "      <th>4</th>\n",
       "      <td>0</td>\n",
       "      <td>1</td>\n",
       "      <td>0</td>\n",
       "      <td>0</td>\n",
       "      <td>0</td>\n",
       "      <td>0</td>\n",
       "      <td>0</td>\n",
       "      <td>0</td>\n",
       "      <td>0</td>\n",
       "      <td>0</td>\n",
       "      <td>...</td>\n",
       "      <td>0</td>\n",
       "      <td>0</td>\n",
       "      <td>0</td>\n",
       "      <td>0</td>\n",
       "      <td>0</td>\n",
       "      <td>0</td>\n",
       "      <td>0</td>\n",
       "      <td>0</td>\n",
       "      <td>1</td>\n",
       "      <td>0</td>\n",
       "    </tr>\n",
       "  </tbody>\n",
       "</table>\n",
       "<p>5 rows × 80 columns</p>\n",
       "</div>"
      ],
      "text/plain": [
       "   protocol_type_icmp  protocol_type_tcp  protocol_type_udp  service_IRC  \\\n",
       "0                   0                  1                  0            0   \n",
       "1                   0                  1                  0            0   \n",
       "2                   0                  1                  0            0   \n",
       "3                   0                  1                  0            0   \n",
       "4                   0                  1                  0            0   \n",
       "\n",
       "   service_X11  service_Z39_50  service_auth  service_bgp  service_courier  \\\n",
       "0            0               0             0            0                0   \n",
       "1            0               0             0            0                0   \n",
       "2            0               0             0            0                0   \n",
       "3            0               0             0            0                0   \n",
       "4            0               0             0            0                0   \n",
       "\n",
       "   service_csnet_ns   ...     flag_REJ  flag_RSTO  flag_RSTOS0  flag_RSTR  \\\n",
       "0                 0   ...            0          0            0          0   \n",
       "1                 0   ...            0          0            0          0   \n",
       "2                 0   ...            0          0            0          0   \n",
       "3                 0   ...            0          0            0          0   \n",
       "4                 0   ...            0          0            0          0   \n",
       "\n",
       "   flag_S0  flag_S1  flag_S2  flag_S3  flag_SF  flag_SH  \n",
       "0        0        0        0        0        1        0  \n",
       "1        0        0        0        0        1        0  \n",
       "2        0        0        0        0        1        0  \n",
       "3        0        0        0        0        1        0  \n",
       "4        0        0        0        0        1        0  \n",
       "\n",
       "[5 rows x 80 columns]"
      ]
     },
     "execution_count": 198,
     "metadata": {},
     "output_type": "execute_result"
    }
   ],
   "source": [
    "connection_events = pandas.get_dummies(connection_events, columns=[\"protocol_type\", \"service\", \"flag\"])\n",
    "\n",
    "# Check the result of the transformation\n",
    "connection_events.filter(regex='(flag|protocol_type|service).*', axis='columns').head()"
   ]
  },
  {
   "cell_type": "markdown",
   "metadata": {},
   "source": [
    "Normalize the mean and variance of the data; this is performed by sci-kit learn's [StandardScaler](https://scikit-learn.org/stable/modules/generated/sklearn.preprocessing.StandardScaler.html#sklearn.preprocessing.StandardScaler) which uses the z-score to perform the scaling:"
   ]
  },
  {
   "cell_type": "code",
   "execution_count": 199,
   "metadata": {
    "collapsed": true
   },
   "outputs": [],
   "source": [
    "standard_scaler = preprocessing.StandardScaler()\n",
    "\n",
    "connection_events = pandas.DataFrame(\n",
    "    standard_scaler.fit_transform(connection_events),\n",
    "    columns=connection_events.columns,\n",
    "    index=connection_events.index,\n",
    ")"
   ]
  },
  {
   "cell_type": "markdown",
   "metadata": {},
   "source": [
    "Convert the datapoint labels into 0's or 1's:"
   ]
  },
  {
   "cell_type": "code",
   "execution_count": 200,
   "metadata": {
    "collapsed": true
   },
   "outputs": [],
   "source": [
    "label_to_number = {'bad.': 1, 'normal.': 0}\n",
    "number_to_label = {1: 'bad.',  0: 'normal.'}\n",
    "\n",
    "connection_labels['connection_label'] = connection_labels['connection_label'].map(label_to_number)"
   ]
  },
  {
   "cell_type": "markdown",
   "metadata": {},
   "source": [
    "#### Feature Selection\n",
    "\n",
    "Selecting a subset of the KDD 99 datasets original features presents a number of advantages. When running intrusion detection systems within the internal network of an organisation, the system should be running and identifying threats in real-time. To do this, it needs to record, store and process the organisations traffic in a short time frame. Removing features known to be noisy and irrelevant should allow a higher percentage of network activity to be recorded, reduce the storage cost, and speed up the classification algorithm [11]. \n",
    "\n",
    "One potential approach for feature selection is to use the resulting vectors from Principle Component Analysis (PCA) to determine the importance of each of the original features. PCA is a method of discovering the amount of covariance between features. It \n",
    "\n",
    "In this section we attempt to use Principle Component Analysis (PCA) to identify important features, and reduce the dimensionality of the dataset. The code below uses scikit-learn's [PCA](https://scikit-learn.org/stable/modules/generated/sklearn.decomposition.PCA.html) component to find the principle components."
   ]
  },
  {
   "cell_type": "code",
   "execution_count": 201,
   "metadata": {
    "collapsed": false
   },
   "outputs": [
    {
     "data": {
      "text/plain": [
       "PCA(copy=True, iterated_power='auto', n_components=None,\n",
       "  random_state=<mtrand.RandomState object at 0x7ff29e5066c0>,\n",
       "  svd_solver='full', tol=0.0, whiten=False)"
      ]
     },
     "execution_count": 201,
     "metadata": {},
     "output_type": "execute_result"
    }
   ],
   "source": [
    "pca = decomposition.PCA(\n",
    "    svd_solver='full',  # force sci-kit learn to compute the exact PCA rather than an estimation\n",
    "    random_state=random_state,\n",
    ")\n",
    "\n",
    "pca.fit(connection_events)"
   ]
  },
  {
   "cell_type": "markdown",
   "metadata": {},
   "source": [
    "Once the principle components have been computed, it is important to consider:\n",
    "  1. The individual impact of each principle component on the dataset.\n",
    "  2. The impact on each feature of the KDD-99 on the principle components.\n",
    "  \n",
    "To do this we create the following two plots:"
   ]
  },
  {
   "cell_type": "code",
   "execution_count": 225,
   "metadata": {
    "collapsed": false
   },
   "outputs": [
    {
     "data": {
      "image/png": "[encoded data removed]",
      "text/plain": [
       "<Figure size 1152x432 with 3 Axes>"
      ]
     },
     "metadata": {},
     "output_type": "display_data"
    }
   ],
   "source": [
    "shared_fig, (explained_variance_axes, feature_weighting_axes) = matplotlib.pyplot.subplots(ncols=2)\n",
    "shared_fig.set_size_inches(16, 6)\n",
    "\n",
    "# 1. The plot below considers how much of the original datasets variance is explained by each principle component [10]:\n",
    "explained_variance = pandas.DataFrame(\n",
    "    list(zip(\n",
    "            pca.explained_variance_ratio_, \n",
    "            pca.explained_variance_ratio_.cumsum()\n",
    "    )),\n",
    "    columns=[\n",
    "        'explained_variance',\n",
    "        'cumulative_explained_variance',\n",
    "    ]\n",
    ")\n",
    "seaborn.scatterplot(data=explained_variance, ax=explained_variance_axes)\n",
    "_ = explained_variance_axes.set(\n",
    "    title='Plot showing the fraction of variance \\n explained by each component.',\n",
    "    xlabel='Principle Component',\n",
    "    ylabel='Fraction of Total Variance',\n",
    ")\n",
    "\n",
    "# 2. This plot  considers weightings of original features against each component from PCA [10]:\n",
    "feature_identity_matrix = numpy.eye(connection_events.shape[1])\n",
    "feature_weighting = numpy.abs(pca.inverse_transform(feature_identity_matrix))\n",
    "\n",
    "seaborn.heatmap(\n",
    "    feature_weighting,\n",
    "    cbar=True,\n",
    "    ax=feature_weighting_axes,\n",
    "    cmap='hot',\n",
    "    vmin=0,\n",
    "    vmax=1,\n",
    ")\n",
    "_ = feature_weighting_axes.set(\n",
    "    title='Heatmap showing the relative importance of each feature in the \\n KDD-99 dataset (as determined by it\\'s principle components).',\n",
    "    xlabel='KDD-99 Feature Index',\n",
    "    ylabel='Principle Component',\n",
    ")"
   ]
  },
  {
   "cell_type": "code",
   "execution_count": 203,
   "metadata": {
    "collapsed": false
   },
   "outputs": [
    {
     "data": {
      "text/plain": [
       "83"
      ]
     },
     "execution_count": 203,
     "metadata": {},
     "output_type": "execute_result"
    }
   ],
   "source": [
    "# How many principle components are required to explain 95% of the datasets variance?\n",
    "explained_variance.query('cumulative_explained_variance > 0.95').iloc[0].name + 1  # increment since indices are 0-based"
   ]
  },
  {
   "cell_type": "markdown",
   "metadata": {},
   "source": [
    "The first plot shows that the variance is equally distributed across each of the principle components. In fact, to explain 95% of the original datasets variance, 83 principle components are required. It is clear that using PCA for dimensionality reduction would provide minimal gains, and add an unnecessary level of indirection between the source data and our results.\n",
    "\n",
    "The second plot shows the relative importance of each feature in the KDD-99 dataset as determined by PCA. It shows that the importance of each feature is equally distributed. Unfortunately, it will therefore be hard to reduce the number of dimensions without affecting the models accuracy. Any dimensionality reduction for increased speed will require a trade-off in model performance.\n",
    "\n",
    "Therefore, the best results will be found by using the majority of the features in the original KDD-99 dataset."
   ]
  },
  {
   "cell_type": "markdown",
   "metadata": {},
   "source": [
    "#### Penalization\n",
    "\n",
    "Plan:\n",
    "  - Describe maximum likelihood estimation\n",
    "  - potential issues with MLE\n",
    "  - motivation for penalisation:\n",
    "    - rare class problem \n",
    "    - l1 shown to be useful for feature selection\n",
    "  - describe penalisation modfication of MLE\n",
    "  - potential loss functions\n",
    "  - choosing the regularisation parameter\n",
    "    - what does sklearn do?\n",
    "  \n",
    "  \n",
    "Logisitic Regression requires \n",
    "\n",
    "Penalised Regression notes [12]\n",
    "\n",
    "Problems with MLE [12]:\n",
    "-   Large variability: when p is large with respect to n, or when columns of X are highly correlated, the variance of β is large\n",
    "-   Lack of interpretability: if p is large, we often desire a smaller set of predictors in order to gain insight into the most relevant relationships between y and X\n",
    "\n",
    "Possible solution: use a subset of explaining variables (this is being explored elsewhere in the project).\n",
    "\n",
    "\n",
    "##### Penalised Maximum Likelihood\n",
    "\n",
    "In maximum likelihood estimation we try to maximise $\\ell(\\theta | \\boldsymbol{x})$ (or maybe the log-likelihood). In this case, we should maximise $M(\\theta) = \\ell(\\theta|\\boldsymbol{x}) - \\lambda P(\\theta)$ where:\n",
    "  - where$P$ is a function that penalises \"less realistic values\" of parameters\n",
    "  - and $\\lambda$ controls the trade-off (the *regularisation parameter*)\n",
    "\n",
    "Call $M(\\theta)$ the **objective function**.\n",
    "\n",
    "##### How do we construct P?\n",
    "\n",
    "Construct a function that penalises unrealistic parameter values. \n",
    "\n",
    "*What is \"less realistic\"?* \"Coefficient values around zero are more believable than those far away\" [12]\n",
    "\n",
    "Two potential penalties:\n",
    " \n",
    "  - *Lasso (L1):* \n",
    "  $P(\\vec{\\theta}) = \\sum_{j=1}^{p}{|\\theta_j - 0|}$ [13]\n",
    "\n",
    "  - *Ridge (L2):* \n",
    "  $P(\\vec{\\theta}) = \\sum_{j=1}^{p}{(\\theta_j - 0)^2}$ [13]\n",
    "\n",
    "\n",
    "Both of these metrics measure the distance from the origin, requiring the dataset to be mean-normalised.\n",
    "\n",
    "##### Considerations for the regularisation parameter ($\\lambda$)\n",
    "\n",
    "-   If $\\lambda$ is too small, we can overfit giving too high a variance.\n",
    "-   If $\\lambda$ is too large, we risk underfitting with a potential for bias. [12]\n",
    "\n",
    "From data science book [6] page 196:\n",
    "\n",
    "> Penalised regression is similar in spirit to AIC. Instead of explicitly searching through a discrete set of models, the model-fitting equation incorporates a constraint that penalises the model for too many variables (parameters). Rather than eliminating predictor variables entirely—as with stepwise, forward, and backward selection — penalised regression applies the penalty by reducing coefficients, in some cases to near zero. Common penalised regression methods are ridge regression and lasso regression.\n",
    "\n"
   ]
  },
  {
   "cell_type": "markdown",
   "metadata": {},
   "source": [
    "The code below uses sklearns [logistic regression](https://scikit-learn.org/stable/modules/generated/sklearn.linear_model.LogisticRegression.html) implementation with ridge penalisation, using every feature as a predictor variable. It trains, then records it's predictions on the testing data for each of the k-fold train/test splits. The predictions are recorded in `testing_predictions` for later analysis:"
   ]
  },
  {
   "cell_type": "code",
   "execution_count": 204,
   "metadata": {
    "collapsed": false
   },
   "outputs": [],
   "source": [
    "# WARNING! Slow code cell ahead.\n",
    "\n",
    "predicted_label_sets = []\n",
    "\n",
    "for training_indices, testing_indices in train_test_splits:\n",
    "    training_data = connection_events.iloc[training_indices]\n",
    "    training_labels = connection_labels.iloc[training_indices]\n",
    "\n",
    "    logistic_regression = linear_model.LogisticRegression(penalty='l2')\n",
    "    logistic_regression.fit(training_data, training_labels)\n",
    "    \n",
    "    testing_data = connection_events.iloc[testing_indices]\n",
    "    predicted_labels = logistic_regression.predict(testing_data)\n",
    "    \n",
    "    predicted_label_sets.append(predicted_labels)"
   ]
  },
  {
   "cell_type": "markdown",
   "metadata": {},
   "source": [
    "As a brief summary of the models performance we can use compute a confusion matrix. the code below computes a confusion matrix for each of the 10-folds, then sums the matrices element-wise to create a summary of the results:"
   ]
  },
  {
   "cell_type": "code",
   "execution_count": 205,
   "metadata": {
    "collapsed": false
   },
   "outputs": [],
   "source": [
    "testing_label_sets = [connection_labels.iloc[testing_indexes].connection_label for training_indexes, testing_indexes in train_test_splits]"
   ]
  },
  {
   "cell_type": "code",
   "execution_count": 206,
   "metadata": {
    "collapsed": false
   },
   "outputs": [],
   "source": [
    "confusion_matrixes = [\n",
    "    metrics.confusion_matrix(testing_labels, predicted_labels)\n",
    "    for testing_labels, predicted_labels\n",
    "    in zip(testing_label_sets, predicted_label_sets)\n",
    "]"
   ]
  },
  {
   "cell_type": "code",
   "execution_count": 231,
   "metadata": {
    "collapsed": false,
    "scrolled": false
   },
   "outputs": [
    {
     "data": {
      "image/png": "[encoded data removed]",
      "text/plain": [
       "<Figure size 720x576 with 2 Axes>"
      ]
     },
     "metadata": {},
     "output_type": "display_data"
    }
   ],
   "source": [
    "summary_confusion_matrix = sum(confusion_matrixes)\n",
    "summary_confusion_matrix = pandas.DataFrame(\n",
    "    data=summary_confusion_matrix, \n",
    "    index=['True Normal', 'True Bad'], \n",
    "    columns=['Predicted Normal', 'Predicted Bad'],\n",
    ")\n",
    "\n",
    "summary_confusion_figure, summary_confusion_axes = matplotlib.pyplot.subplots()\n",
    "summary_confusion_figure.set_size_inches(10, 8)\n",
    "summary_confusion_axes.set_title(\n",
    "    'Confusion matrix showing the predicted vs. true \\n'\n",
    "    'class of \"normal\" and \"bad\" network connections.'\n",
    "    '\\n\\n'  # hack to avoid overlap with x-axis labels below\n",
    ")\n",
    "summary_confusion_axes.xaxis.tick_top()  # move x-axis labels to top of matrix\n",
    "_ = seaborn.heatmap(\n",
    "    summary_confusion_matrix,\n",
    "    annot=True,\n",
    "    fmt=\"d\",\n",
    "    cmap=seaborn.color_palette(\"Blues\"),\n",
    "    vmin=0,\n",
    "    ax=summary_confusion_axes,\n",
    ")"
   ]
  },
  {
   "cell_type": "markdown",
   "metadata": {},
   "source": [
    "## Model Evaluation"
   ]
  },
  {
   "cell_type": "code",
   "execution_count": 192,
   "metadata": {
    "collapsed": true
   },
   "outputs": [],
   "source": [
    "def accuracy(confusion_matrix):\n",
    "    true_positives = confusion_matrix[1][1]\n",
    "    true_negatives = confusion_matrix[0][0]\n",
    "    false_positives = confusion_matrix[0][1]\n",
    "    false_negatives = confusion_matrix[1][0]\n",
    "    return (true_positives +true_negatives)/(true_positives+false_positives+true_negatives+false_negatives)"
   ]
  },
  {
   "cell_type": "code",
   "execution_count": 193,
   "metadata": {
    "collapsed": true
   },
   "outputs": [],
   "source": [
    "def sensitivity(confusion_matrix):\n",
    "    true_positives = confusion_matrix[1][1]\n",
    "    false_negatives = confusion_matrix[1][0]\n",
    "    return true_positives/(true_positives+false_negatives)"
   ]
  },
  {
   "cell_type": "code",
   "execution_count": 194,
   "metadata": {
    "collapsed": true
   },
   "outputs": [],
   "source": [
    "def specificity(confusion_matrix):\n",
    "    false_positives = confusion_matrix[0][1]\n",
    "    true_negatives = confusion_matrix[0][0]\n",
    "    return true_negatives/(true_negatives+false_positives)"
   ]
  },
  {
   "cell_type": "code",
   "execution_count": 195,
   "metadata": {
    "collapsed": true
   },
   "outputs": [],
   "source": [
    "def kappa(confusion_matrix):\n",
    "    \"\"\"\n",
    "    Calculates the Kappa summary statistic [5] on the confusion matrix given. \n",
    "    \n",
    "    The confusion matrix should have the following structure:\n",
    "        [\n",
    "            [true_positives, false_positives],\n",
    "            [false_negatives, true_negatives],\n",
    "        ]\n",
    "    \"\"\"\n",
    "    true_positives = confusion_matrix[1][1]\n",
    "    true_negatives = confusion_matrix[0][0]\n",
    "    false_positives = confusion_matrix[0][1]\n",
    "    false_negatives = confusion_matrix[1][0]\n",
    "    \n",
    "    total = true_positives+false_positives+true_negatives+false_negatives\n",
    "    \n",
    "    observed_accuracy = (true_positives + true_negatives) / total\n",
    "    random_accuracy = (\n",
    "        (true_negatives+false_positives)*(true_negatives+false_negatives) \n",
    "        + (false_negatives+true_positives)*(false_positives+true_positives)\n",
    "    ) / (\n",
    "        total * total\n",
    "    )\n",
    "    \n",
    "    return (observed_accuracy - random_accuracy) / (1 - random_accuracy)"
   ]
  },
  {
   "cell_type": "code",
   "execution_count": 196,
   "metadata": {
    "collapsed": true
   },
   "outputs": [],
   "source": [
    "def false_positive_rate(confusion_matrix):\n",
    "    true_negatives = confusion_matrix[0][0]\n",
    "    false_positives = confusion_matrix[0][1]\n",
    "    \n",
    "    return false_positives/(false_positives + true_negatives)"
   ]
  },
  {
   "cell_type": "code",
   "execution_count": 219,
   "metadata": {
    "collapsed": false
   },
   "outputs": [
    {
     "data": {
      "text/plain": [
       "0.3238142231542589"
      ]
     },
     "execution_count": 219,
     "metadata": {},
     "output_type": "execute_result"
    }
   ],
   "source": [
    "false_positive_rate(numpy.array(summary_confusion_matrix))*100"
   ]
  },
  {
   "cell_type": "code",
   "execution_count": 220,
   "metadata": {
    "collapsed": false
   },
   "outputs": [
    {
     "data": {
      "text/plain": [
       "98.94616918256907"
      ]
     },
     "execution_count": 220,
     "metadata": {},
     "output_type": "execute_result"
    }
   ],
   "source": [
    "sensitivity(numpy.array(summary_confusion_matrix))*100"
   ]
  },
  {
   "cell_type": "code",
   "execution_count": 221,
   "metadata": {
    "collapsed": false
   },
   "outputs": [
    {
     "data": {
      "text/plain": [
       "99.67618577684574"
      ]
     },
     "execution_count": 221,
     "metadata": {},
     "output_type": "execute_result"
    }
   ],
   "source": [
    "specificity(numpy.array(summary_confusion_matrix))*100"
   ]
  },
  {
   "cell_type": "markdown",
   "metadata": {},
   "source": [
    "**TODO: Dan** Visualisations of the model."
   ]
  },
  {
   "cell_type": "markdown",
   "metadata": {},
   "source": [
    "False positive rate is below the threshold, but with the trade-off that it it's sensitivity is relatively low."
   ]
  },
  {
   "cell_type": "markdown",
   "metadata": {},
   "source": [
    "## References\n",
    "\n",
    "[1]: rpy2, https://rpy2.bitbucket.io/.\n",
    "\n",
    "[2]: KDD-CUP-99 Task Description, http://kdd.ics.uci.edu/databases/kddcup99/task.html.\n",
    "\n",
    "[3]: Hettich, S. and Bay, S. D. (1999). The UCI KDD Archive [http://kdd.ics.uci.edu]. Irvine, CA: University of California, Department of Information and Computer Science.\n",
    "\n",
    "[4]: Scikit-learn: Machine Learning in Python, Pedregosa et al., JMLR 12, pp. 2825-2830, 2011.\n",
    "\n",
    "[5]: Confusion Matrix – Another Single Value Metric – Kappa Statistic, https://standardwisdom.com/softwarejournal/2011/12/confusion-matrix-another-single-value-metric-kappa-statistic/\n",
    "\n",
    "[6]: Practical Statistics for Data Science, 1st ed., by Peter Bruce and Andrew Bruce (O’Reilly Media, 2017).\n",
    "\n",
    "[7]: Beautement, Adam, M. Angela Sasse, and Mike Wonham. \"The compliance budget: managing security behaviour in organisations.\" Proceedings of the 2008 New Security Paradigms Workshop. ACM, 2009.\n",
    "\n",
    "[8]: What-is-logistic-regression: https://www.statisticssolutions.com/what-is-logistic-regression/\n",
    "\n",
    "[9]: Weirich, Dirk. “Persuasive password security.” CHI Extended Abstracts (2001).\n",
    "\n",
    "[10]: Principal Component Analysis (PCA) for Feature Selection and some of its Pitfalls, http://jotterbach.github.io/2016/03/24/Principal_Component_Analysis/\n",
    "\n",
    "[11]: Liu, Huan, and Lei Yu. \"Toward integrating feature selection algorithms for classification and clustering.\" IEEE Transactions on knowledge and data engineering 17.4 (2005): 491-502. https://doi.org/10.1109/TKDE.2005.66\n",
    "\n",
    "[12]: BST 764: Applied Statistical Modelling, https://web.as.uky.edu/statistics/users/pbreheny/764-F11/notes/8-30.pdf\n",
    "\n",
    "[13]: Penalized logistic regression with rare events: Preliminary Results, p12 http://prema.mf.uni-lj.si/files/PREMAPreliminary_Lara_AS2015_f98.pdf."
   ]
  },
  {
   "cell_type": "code",
   "execution_count": null,
   "metadata": {
    "collapsed": true
   },
   "outputs": [],
   "source": []
  }
 ],
 "metadata": {
  "kernelspec": {
   "display_name": "Python 3",
   "language": "python",
   "name": "python3"
  },
  "language_info": {
   "codemirror_mode": {
    "name": "ipython",
    "version": 3
   },
   "file_extension": ".py",
   "mimetype": "text/x-python",
   "name": "python",
   "nbconvert_exporter": "python",
   "pygments_lexer": "ipython3",
   "version": "3.6.5"
  }
 },
 "nbformat": 4,
 "nbformat_minor": 2
}
